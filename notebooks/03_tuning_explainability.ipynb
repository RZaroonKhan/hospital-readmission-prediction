{
 "cells": [
  {
   "cell_type": "code",
   "execution_count": null,
   "id": "8fc669b4",
   "metadata": {},
   "outputs": [],
   "source": [
    "import pandas as pd\n",
    "from pathlib import Path\n",
    "\n",
    "df_clean = pd.read_csv(Path(\"data/diabetic_data_clean_phase2.csv\"))\n",
    "TARGET = \"readmit_30\"\n",
    "X = df_clean.drop(columns=[c for c in [\"encounter_id\",\"patient_nbr\",\"readmitted\", TARGET] if c in df_clean.columns])\n",
    "y = df_clean[TARGET]\n"
   ]
  }
 ],
 "metadata": {
  "language_info": {
   "name": "python"
  }
 },
 "nbformat": 4,
 "nbformat_minor": 5
}
