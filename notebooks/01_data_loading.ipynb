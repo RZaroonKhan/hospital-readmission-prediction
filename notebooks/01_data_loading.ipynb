{
 "cells": [
  {
   "cell_type": "code",
   "execution_count": 9,
   "id": "b64414e6",
   "metadata": {},
   "outputs": [
    {
     "name": "stdout",
     "output_type": "stream",
     "text": [
      "Dataset shape: (101766, 50)\n"
     ]
    }
   ],
   "source": [
    "import pandas as pd\n",
    "import numpy as np\n",
    "\n",
    "# Load the data\n",
    "df_raw = pd.read_csv('../data/diabetic_data.csv')\n",
    "\n",
    "# Dataset shape\n",
    "print(f\"Dataset shape: {df_raw.shape}\")\n",
    "\n",
    "df_raw.head()\n",
    "\n",
    "# Copy raw data for cleaning\n",
    "df_clean = df_raw.copy()\n",
    "\n",
    "# Create binary target\n",
    "df_clean['readmit_30'] = (df_clean['readmitted'] == '<30').astype(int)\n",
    "\n",
    "# Sanity check class balance\n",
    "df_clean['readmit_30'].value_counts(normalize=True).rename({1:'<30', 0:'not <30'}) * 100\n",
    "\n",
    "# Replace placeholder missing values\n",
    "df_clean = df_clean.replace('?', np.nan)\n",
    "\n",
    "# Check missing values\n",
    "missing_counts = df_clean.isna().sum().sort_values(ascending=False)\n",
    "missing_counts[missing_counts > 0]\n",
    "\n",
    "# Drop columns with too many missing values\n",
    "cols_to_drop = ['weight', 'max_glu_serum', 'payer_code']\n",
    "df_clean = df_clean.drop(columns=[c for c in cols_to_drop if c in df_clean.columns])\n",
    "\n",
    "df_clean.shape\n",
    "\n",
    "fill_unknown = ['medical_specialty', 'race', 'diag_1', 'diag_2', 'diag_3']\n",
    "for col in fill_unknown:\n",
    "    if col in df_clean.columns:\n",
    "        df_clean[col] = df_clean[col].fillna('Unknown')\n",
    "\n",
    "if 'A1Cresult' in df_clean.columns:\n",
    "    df_clean['A1Cresult'] = df_clean['A1Cresult'].fillna('Not_measured')\n",
    "\n",
    "# Verify no remaining missing values\n",
    "df_clean.isna().sum().sort_values(ascending=False).head(10)\n",
    "\n",
    "\n",
    "df_clean.to_csv(\"../data/diabetic_data_clean_phase2.csv\", index=False)\n",
    "\n",
    "\n",
    "\n",
    "\n"
   ]
  }
 ],
 "metadata": {
  "kernelspec": {
   "display_name": ".venv",
   "language": "python",
   "name": "python3"
  },
  "language_info": {
   "codemirror_mode": {
    "name": "ipython",
    "version": 3
   },
   "file_extension": ".py",
   "mimetype": "text/x-python",
   "name": "python",
   "nbconvert_exporter": "python",
   "pygments_lexer": "ipython3",
   "version": "3.13.5"
  }
 },
 "nbformat": 4,
 "nbformat_minor": 5
}
