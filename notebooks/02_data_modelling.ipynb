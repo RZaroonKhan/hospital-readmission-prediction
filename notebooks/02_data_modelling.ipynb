{
 "cells": [
  {
   "cell_type": "code",
   "execution_count": 6,
   "id": "a5071089",
   "metadata": {},
   "outputs": [
    {
     "name": "stdout",
     "output_type": "stream",
     "text": [
      "(101766, 48)\n",
      "X shape: (101766, 44) y positive rate: 0.1116\n"
     ]
    }
   ],
   "source": [
    "import pandas as pd\n",
    "from pathlib import Path\n",
    "\n",
    "# Load the cleaned dataset \n",
    "clean_path = Path(\"../data/diabetic_data_clean.csv\")\n",
    "df_clean = pd.read_csv(clean_path)\n",
    "\n",
    "# Work on a modeling copy so df_clean stays pristine\n",
    "df_model = df_clean.copy()\n",
    "\n",
    "print(df_model.shape)\n",
    "df_model.head(3)\n",
    "\n",
    "\n",
    "TARGET = 'readmit_30'\n",
    "\n",
    "# IDs / high-risk leakage columns to drop from features:\n",
    "# - encounter_id & patient_nbr are unique IDs (no predictive value)\n",
    "# - readmitted is the raw multi-class label we derived target from\n",
    "id_or_leak_cols = [c for c in ['encounter_id','patient_nbr','readmitted'] if c in df_model.columns]\n",
    "\n",
    "X = df_model.drop(columns=id_or_leak_cols + [TARGET])\n",
    "y = df_model[TARGET]\n",
    "\n",
    "print(\"X shape:\", X.shape, \"y positive rate:\", y.mean().round(4))\n"
   ]
  }
 ],
 "metadata": {
  "kernelspec": {
   "display_name": ".venv",
   "language": "python",
   "name": "python3"
  },
  "language_info": {
   "codemirror_mode": {
    "name": "ipython",
    "version": 3
   },
   "file_extension": ".py",
   "mimetype": "text/x-python",
   "name": "python",
   "nbconvert_exporter": "python",
   "pygments_lexer": "ipython3",
   "version": "3.13.5"
  }
 },
 "nbformat": 4,
 "nbformat_minor": 5
}
