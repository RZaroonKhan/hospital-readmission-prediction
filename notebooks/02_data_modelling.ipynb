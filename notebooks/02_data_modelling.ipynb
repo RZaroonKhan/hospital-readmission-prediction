{
 "cells": [
  {
   "cell_type": "markdown",
   "id": "3b26f0c3",
   "metadata": {},
   "source": [
    "# Modeling — Predicting 30-Day Hospital Readmission\n",
    "\n",
    "**Goal:**  \n",
    "Build and evaluate machine learning models to predict whether a patient will be readmitted to the hospital within 30 days of discharge, using the cleaned dataset.\n",
    "\n",
    "**Key steps in this notebook:**\n",
    "1. **Load cleaned dataset**.\n",
    "2. **Separate features & target** (`readmit_30`).\n",
    "3. **Remove identifiers and leakage columns**.\n",
    "4. **Preprocess features**:\n",
    "   - One-Hot Encode categorical variables.\n",
    "   - Scale numeric features for linear models.\n",
    "5. **Split data** using stratification to maintain class balance.\n",
    "6. **Baseline models**:\n",
    "   - Logistic Regression (`class_weight='balanced'`)\n",
    "   - Random Forest (`class_weight='balanced_subsample'`)\n",
    "7. **Evaluate models** using ROC AUC and Precision-Recall AUC.\n",
    "8. **Tune decision threshold** to balance recall and precision.\n",
    "9. **Save trained models** for future use (e.g., dashboard or app).\n",
    "\n",
    "**Why this matters:**\n",
    "Accurately identifying high-risk patients for 30-day readmission can help hospitals target interventions, reduce costs, and improve patient outcomes.\n"
   ]
  },
  {
   "cell_type": "code",
   "execution_count": 6,
   "id": "a5071089",
   "metadata": {},
   "outputs": [
    {
     "name": "stdout",
     "output_type": "stream",
     "text": [
      "(101766, 48)\n",
      "X shape: (101766, 44) y positive rate: 0.1116\n"
     ]
    }
   ],
   "source": [
    "import pandas as pd\n",
    "from pathlib import Path\n",
    "\n",
    "# Load the cleaned dataset \n",
    "clean_path = Path(\"../data/diabetic_data_clean.csv\")\n",
    "df_clean = pd.read_csv(clean_path)\n",
    "\n",
    "# Work on a modeling copy so df_clean stays pristine\n",
    "df_model = df_clean.copy()\n",
    "\n",
    "print(df_model.shape)\n",
    "df_model.head(3)\n",
    "\n",
    "\n",
    "TARGET = 'readmit_30'\n",
    "\n",
    "# IDs / high-risk leakage columns to drop from features:\n",
    "# - encounter_id & patient_nbr are unique IDs (no predictive value)\n",
    "# - readmitted is the raw multi-class label we derived target from\n",
    "id_or_leak_cols = [c for c in ['encounter_id','patient_nbr','readmitted'] if c in df_model.columns]\n",
    "\n",
    "X = df_model.drop(columns=id_or_leak_cols + [TARGET])\n",
    "y = df_model[TARGET]\n",
    "\n",
    "print(\"X shape:\", X.shape, \"y positive rate:\", y.mean().round(4))\n"
   ]
  }
 ],
 "metadata": {
  "kernelspec": {
   "display_name": ".venv",
   "language": "python",
   "name": "python3"
  },
  "language_info": {
   "codemirror_mode": {
    "name": "ipython",
    "version": 3
   },
   "file_extension": ".py",
   "mimetype": "text/x-python",
   "name": "python",
   "nbconvert_exporter": "python",
   "pygments_lexer": "ipython3",
   "version": "3.13.5"
  }
 },
 "nbformat": 4,
 "nbformat_minor": 5
}
