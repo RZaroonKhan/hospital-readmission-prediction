{
 "cells": [
  {
   "cell_type": "markdown",
   "id": "3b26f0c3",
   "metadata": {},
   "source": [
    "# Modeling — Predicting 30-Day Hospital Readmission\n",
    "\n",
    "**Goal:**  \n",
    "Build and evaluate machine learning models to predict whether a patient will be readmitted to the hospital within 30 days of discharge, using the cleaned dataset.\n",
    "\n",
    "**Key steps in this notebook:**\n",
    "1. **Load cleaned dataset**.\n",
    "2. **Separate features & target** (`readmit_30`).\n",
    "3. **Remove identifiers and leakage columns**.\n",
    "4. **Preprocess features**:\n",
    "   - One-Hot Encode categorical variables.\n",
    "   - Scale numeric features for linear models.\n",
    "5. **Split data** using stratification to maintain class balance.\n",
    "6. **Baseline models**:\n",
    "   - Logistic Regression (`class_weight='balanced'`)\n",
    "   - Random Forest (`class_weight='balanced_subsample'`)\n",
    "7. **Evaluate models** using ROC AUC and Precision-Recall AUC.\n",
    "8. **Tune decision threshold** to balance recall and precision.\n",
    "9. **Save trained models** for future use (e.g., dashboard or app).\n",
    "\n",
    "**Why this matters:**\n",
    "Accurately identifying high-risk patients for 30-day readmission can help hospitals target interventions, reduce costs, and improve patient outcomes.\n"
   ]
  },
  {
   "cell_type": "code",
   "execution_count": null,
   "id": "a5071089",
   "metadata": {},
   "outputs": [
    {
     "name": "stdout",
     "output_type": "stream",
     "text": [
      "(101766, 48)\n",
      "X shape: (101766, 44) y positive rate: 0.1116\n",
      "Categorical: 33 | Numeric: 11\n"
     ]
    },
    {
     "data": {
      "text/plain": [
       "((81412, 44), (20354, 44), np.float64(0.1116), np.float64(0.1116))"
      ]
     },
     "execution_count": 7,
     "metadata": {},
     "output_type": "execute_result"
    }
   ],
   "source": [
    "import pandas as pd\n",
    "from pathlib import Path\n",
    "from sklearn.model_selection import train_test_split\n",
    "from sklearn.compose import ColumnTransformer\n",
    "from sklearn.preprocessing import OneHotEncoder, StandardScaler\n",
    "from sklearn.pipeline import Pipeline\n",
    "from sklearn.linear_model import LogisticRegression\n",
    "from sklearn.metrics import roc_auc_score, average_precision_score\n",
    "\n",
    "\n",
    "# Load the cleaned dataset \n",
    "clean_path = Path(\"../data/diabetic_data_clean.csv\")\n",
    "df_clean = pd.read_csv(clean_path)\n",
    "\n",
    "# Work on a modeling copy so df_clean stays pristine\n",
    "df_model = df_clean.copy()\n",
    "\n",
    "print(df_model.shape)\n",
    "df_model.head(3)\n",
    "\n",
    "\n",
    "TARGET = 'readmit_30'\n",
    "\n",
    "# IDs / high-risk leakage columns to drop from features:\n",
    "# - encounter_id & patient_nbr are unique IDs (no predictive value)\n",
    "# - readmitted is the raw multi-class label we derived target from\n",
    "id_or_leak_cols = [c for c in ['encounter_id','patient_nbr','readmitted'] if c in df_model.columns]\n",
    "\n",
    "X = df_model.drop(columns=id_or_leak_cols + [TARGET])\n",
    "y = df_model[TARGET]\n",
    "\n",
    "print(\"X shape:\", X.shape, \"y positive rate:\", y.mean().round(4))\n",
    "\n",
    "# Column typing & encoders\n",
    "\n",
    "# Identify column types\n",
    "cat_cols = X.select_dtypes(include='object').columns.tolist()\n",
    "num_cols = X.select_dtypes(exclude='object').columns.tolist()\n",
    "\n",
    "print(\"Categorical:\", len(cat_cols), \"| Numeric:\", len(num_cols))\n",
    "\n",
    "# Build preprocessors\n",
    "categorical = OneHotEncoder(handle_unknown='ignore', sparse_output=True)\n",
    "numeric = StandardScaler(with_mean=False)  # with_mean=False because we may use sparse matrices\n",
    "\n",
    "preprocess = ColumnTransformer(\n",
    "    transformers=[\n",
    "        ('cat', categorical, cat_cols),\n",
    "        ('num', numeric, num_cols),\n",
    "    ],\n",
    "    remainder='drop',\n",
    "    sparse_threshold=1.0\n",
    ")\n",
    "\n",
    "# Stratified split because of imbalance\n",
    "X_train, X_test, y_train, y_test = train_test_split(\n",
    "    X, y, test_size=0.2, stratify=y, random_state=42\n",
    ")\n",
    "\n",
    "X_train.shape, X_test.shape, y_train.mean().round(4), y_test.mean().round(4)\n",
    "\n",
    "model_lr = Pipeline(steps=[\n",
    "    ('prep', preprocess),\n",
    "    ('clf', LogisticRegression(max_iter=1000, class_weight='balanced', n_jobs=None))\n",
    "])\n",
    "\n",
    "model_lr.fit(X_train, y_train)\n",
    "\n",
    "proba_lr = model_lr.predict_proba(X_test)[:,1]\n",
    "print(\"LR ROC AUC:\", roc_auc_score(y_test, proba_lr).round(4))\n",
    "print(\"LR PR AUC (AP):\", average_precision_score(y_test, proba_lr).round(4))\n"
   ]
  }
 ],
 "metadata": {
  "kernelspec": {
   "display_name": ".venv",
   "language": "python",
   "name": "python3"
  },
  "language_info": {
   "codemirror_mode": {
    "name": "ipython",
    "version": 3
   },
   "file_extension": ".py",
   "mimetype": "text/x-python",
   "name": "python",
   "nbconvert_exporter": "python",
   "pygments_lexer": "ipython3",
   "version": "3.13.5"
  }
 },
 "nbformat": 4,
 "nbformat_minor": 5
}
